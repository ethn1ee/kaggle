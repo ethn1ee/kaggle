{
 "cells": [
  {
   "cell_type": "code",
   "execution_count": 8,
   "metadata": {},
   "outputs": [],
   "source": [
    "import numpy as np\n",
    "import pandas as pd\n",
    "from sklearn.impute import SimpleImputer\n",
    "from sklearn.preprocessing import OneHotEncoder, OrdinalEncoder\n",
    "from sklearn.compose import ColumnTransformer\n",
    "from sklearn.preprocessing import StandardScaler"
   ]
  },
  {
   "cell_type": "markdown",
   "metadata": {},
   "source": [
    "## Feature Engineering"
   ]
  },
  {
   "cell_type": "code",
   "execution_count": 9,
   "metadata": {},
   "outputs": [],
   "source": [
    "def extract_cabin(data):\n",
    "    def get_most_common_cabin(combined):\n",
    "        decks = {}\n",
    "        nums = {}\n",
    "        sides = {}\n",
    "\n",
    "        for i in range(len(combined)):\n",
    "            if combined['Cabin'][i] is np.nan or combined['Cabin'][i].count('/') != 2:\n",
    "                continue\n",
    "\n",
    "            deck, num, side = combined['Cabin'][i].split('/')\n",
    "\n",
    "            if deck not in decks:\n",
    "                decks[deck] = 1\n",
    "            else:\n",
    "                decks[deck] += 1\n",
    "            if num not in nums:\n",
    "                nums[num] = 1\n",
    "            else:\n",
    "                nums[num] += 1\n",
    "            if side not in sides:\n",
    "                sides[side] = 1\n",
    "            else:\n",
    "                sides[side] += 1\n",
    "\n",
    "        # Get the most common deck, num, and side\n",
    "        deck_mode = max(decks, key=decks.get)\n",
    "        num_mode = max(nums, key=nums.get)\n",
    "        side_mode = max(sides, key=sides.get)\n",
    "\n",
    "        return f\"{deck_mode}/{num_mode}/{side_mode}\"\n",
    "\n",
    "    cabin_mode = get_most_common_cabin(data)\n",
    "\n",
    "    imputer_cabin = SimpleImputer(strategy='constant', fill_value=cabin_mode)\n",
    "    data['Cabin'] = imputer_cabin.fit_transform(data[['Cabin']]).ravel()\n",
    "\n",
    "    # Split the Cabin column into Deck, Num, and Side\n",
    "    data['Deck'] = pd.Series(dtype='str')\n",
    "    data['Num'] = pd.Series(dtype='float64')\n",
    "    data['Side'] = pd.Series(dtype='str')\n",
    "\n",
    "    for i in range(len(data)):\n",
    "        if pd.isna(data['Cabin'][i]) or data['Cabin'][i].count('/') != 2:\n",
    "            continue\n",
    "\n",
    "        deck, num, side = data['Cabin'][i].split('/')\n",
    "\n",
    "        data.loc[i, 'Deck'] = deck\n",
    "        data.loc[i, 'Num'] = int(num)\n",
    "        data.loc[i, 'Side'] = side\n",
    "\n",
    "    data = data.drop(columns=['Cabin'])\n",
    "\n",
    "    return data"
   ]
  },
  {
   "cell_type": "code",
   "execution_count": 10,
   "metadata": {},
   "outputs": [],
   "source": [
    "def impute_features(data):\n",
    "    imputer_mode = SimpleImputer(strategy='most_frequent')\n",
    "    features = ['HomePlanet', 'CryoSleep', 'Deck', 'Num', 'Side', 'Destination', 'Age', 'VIP', 'RoomService', 'FoodCourt', 'ShoppingMall', 'Spa', 'VRDeck']\n",
    "    \n",
    "    for feature in features:\n",
    "        data[feature] = imputer_mode.fit_transform(data[[feature]]).ravel()\n",
    "    data = data.drop(columns=['Name'])\n",
    "\n",
    "    return data"
   ]
  },
  {
   "cell_type": "markdown",
   "metadata": {},
   "source": [
    "## Encoding & Scaling\n",
    "- One-Hot Encoding: HomePlanet, Destination\n",
    "- Ordinal Encoding: Deck\n",
    "- Binary Encoding: CryoSleep, VIP, Side\n",
    "- Scaling: Age, RoomService, FoodCourt, ShoppingMall, Spa, VRDeck, Num"
   ]
  },
  {
   "cell_type": "code",
   "execution_count": 11,
   "metadata": {},
   "outputs": [],
   "source": [
    "def encode(data):\n",
    "    one_hot = OneHotEncoder(drop='first', sparse_output=False)\n",
    "    ordinal = OrdinalEncoder(categories=[['A', 'B', 'C', 'D', 'E', 'F', 'G', 'T']])\n",
    "\n",
    "    preprocessor=ColumnTransformer([(\"onehot_encoding\", one_hot,[\"HomePlanet\", \"Destination\"]), \n",
    "                                (\"ordinal_encoding\", ordinal,[\"Deck\"])], remainder=\"passthrough\")\n",
    "    combined_encoded=preprocessor.fit_transform(data)\n",
    "    combined_encoded=pd.DataFrame(combined_encoded,columns=preprocessor.get_feature_names_out())\n",
    "\n",
    "    combined_encoded['CryoSleep'] = data['CryoSleep'].astype(int)\n",
    "    combined_encoded['VIP'] = data['VIP'].astype(int)\n",
    "    combined_encoded['Side'] = data['Side'].map({\"P\": 0, \"S\": 1})\n",
    "\n",
    "    combined_encoded.drop(\"remainder__CryoSleep\", axis=1, inplace=True)\n",
    "    combined_encoded.drop(\"remainder__VIP\", axis=1, inplace=True)\n",
    "    combined_encoded.drop(\"remainder__Side\", axis=1, inplace=True)\n",
    "\n",
    "    combined_encoded.columns = combined_encoded.columns.str.replace('remainder__', '', regex=False)\n",
    "\n",
    "    return combined_encoded"
   ]
  },
  {
   "cell_type": "code",
   "execution_count": 12,
   "metadata": {},
   "outputs": [],
   "source": [
    "def scale(data):\n",
    "    scale = StandardScaler()\n",
    "    scaler = ColumnTransformer([(\"scaling\", scale, ['Age', 'RoomService', 'FoodCourt', 'ShoppingMall', 'Spa', 'VRDeck', 'Num'])], remainder=\"passthrough\")\n",
    "    combined_scaled = scaler.fit_transform(data)\n",
    "    combined_scaled=pd.DataFrame(combined_scaled,columns=scaler.get_feature_names_out())\n",
    "    combined_scaled.columns = combined_scaled.columns.str.replace('remainder__', '', regex=False)\n",
    "\n",
    "    return combined_scaled"
   ]
  },
  {
   "cell_type": "code",
   "execution_count": 15,
   "metadata": {},
   "outputs": [],
   "source": [
    "def preprocessing(data):\n",
    "    extracted = extract_cabin(data)\n",
    "    imputed = impute_features(extracted)\n",
    "    encoded = encode(imputed)\n",
    "    scaled = scale(encoded)\n",
    "    \n",
    "    # Convert object columns to numeric\n",
    "    for col in scaled.columns:\n",
    "        if col != 'PassengerId' and col != 'Transported':\n",
    "            scaled[col] = pd.to_numeric(scaled[col])\n",
    "    \n",
    "    # Convert Transported to boolean\n",
    "    if 'Transported' in scaled.columns:\n",
    "        scaled['Transported'] = scaled['Transported'].astype(bool)\n",
    "\n",
    "    return scaled"
   ]
  },
  {
   "cell_type": "code",
   "execution_count": null,
   "metadata": {},
   "outputs": [],
   "source": []
  }
 ],
 "metadata": {
  "kernelspec": {
   "display_name": "base",
   "language": "python",
   "name": "python3"
  },
  "language_info": {
   "codemirror_mode": {
    "name": "ipython",
    "version": 3
   },
   "file_extension": ".py",
   "mimetype": "text/x-python",
   "name": "python",
   "nbconvert_exporter": "python",
   "pygments_lexer": "ipython3",
   "version": "3.12.4"
  }
 },
 "nbformat": 4,
 "nbformat_minor": 2
}
