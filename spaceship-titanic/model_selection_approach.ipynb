{
 "cells": [
  {
   "cell_type": "code",
   "execution_count": 3,
   "metadata": {},
   "outputs": [],
   "source": [
    "import sys\n",
    "import pandas as pd\n",
    "import numpy as np\n",
    "from sklearn.model_selection import train_test_split\n",
    "import torch\n",
    "import torch.nn as nn\n",
    "import torch.optim as optim\n",
    "from torch.utils.data import Dataset, DataLoader\n",
    "from sklearn.metrics import accuracy_score\n",
    "\n",
    "# Import preprocessing functions from the preprocessing notebook\n",
    "%run preprocessing.ipynb"
   ]
  },
  {
   "cell_type": "code",
   "execution_count": 4,
   "metadata": {},
   "outputs": [
    {
     "name": "stdout",
     "output_type": "stream",
     "text": [
      "Preprocessed training data shape: (8693, 17)\n",
      "Preprocessed test data shape: (4277, 16)\n",
      "Training features shape: (6954, 15)\n",
      "Validation features shape: (1739, 15)\n",
      "Test features shape: (4277, 15)\n"
     ]
    }
   ],
   "source": [
    "# Load training and test data\n",
    "train_data = pd.read_csv('./data/train.csv')\n",
    "test_data = pd.read_csv('./data/test.csv')\n",
    "\n",
    "# Apply preprocessing to both datasets\n",
    "train_preprocessed = preprocessing(train_data) # type: ignore\n",
    "test_preprocessed = preprocessing(test_data) # type: ignore\n",
    "\n",
    "print(\"Preprocessed training data shape:\", train_preprocessed.shape)\n",
    "print(\"Preprocessed test data shape:\", test_preprocessed.shape)\n",
    "\n",
    "# Convert target variable to numeric if needed\n",
    "train_preprocessed['Transported'] = train_preprocessed['Transported'].map({True: 1, False: 0}).astype(int)\n",
    "\n",
    "# Split preprocessed training data into features and target\n",
    "X = train_preprocessed.drop(columns=['PassengerId', 'Transported'])\n",
    "y = train_preprocessed['Transported']\n",
    "\n",
    "# Split into training and validation sets\n",
    "X_train, X_val, y_train, y_val = train_test_split(\n",
    "    X, y, test_size=0.2, random_state=42, stratify=y\n",
    ")\n",
    "\n",
    "# Prepare test data for prediction\n",
    "X_test = test_preprocessed.drop(columns=['PassengerId'])\n",
    "test_ids = test_preprocessed['PassengerId']\n",
    "\n",
    "print(\"Training features shape:\", X_train.shape)\n",
    "print(\"Validation features shape:\", X_val.shape)\n",
    "print(\"Test features shape:\", X_test.shape)"
   ]
  },
  {
   "cell_type": "code",
   "execution_count": 5,
   "metadata": {},
   "outputs": [],
   "source": [
    "import warnings\n",
    "\n",
    "warnings.filterwarnings(\"ignore\")"
   ]
  },
  {
   "cell_type": "code",
   "execution_count": 6,
   "metadata": {},
   "outputs": [],
   "source": [
    "from sklearn.model_selection import train_test_split\n",
    "from sklearn.metrics import accuracy_score\n",
    "from sklearn.linear_model import LogisticRegression,LogisticRegressionCV,SGDClassifier\n",
    "from sklearn.ensemble import RandomForestClassifier, GradientBoostingClassifier,AdaBoostClassifier,BaggingClassifier\n",
    "from sklearn.tree import DecisionTreeClassifier\n",
    "from sklearn.svm import SVC\n",
    "from sklearn.neighbors import KNeighborsClassifier"
   ]
  },
  {
   "cell_type": "code",
   "execution_count": 7,
   "metadata": {},
   "outputs": [
    {
     "name": "stdout",
     "output_type": "stream",
     "text": [
      "Model Performance:\n",
      "Random Forest: 0.813686\n",
      "Gradient Boosting: 0.805635\n",
      "K-Nearest Neighbors: 0.798735\n",
      "Bagging: 0.792984\n",
      "Logistic Regression CV: 0.792409\n",
      "Logistic Regression: 0.791259\n",
      "AdaBoost: 0.787234\n",
      "Support Vector Machine: 0.786659\n",
      "Decision Tree: 0.745256\n",
      "SGD: 0.695227\n"
     ]
    }
   ],
   "source": [
    "# Define models\n",
    "models = {\n",
    "    'Logistic Regression': LogisticRegression(),\n",
    "        'Logistic Regression CV': LogisticRegressionCV(),\n",
    "    'SGD': SGDClassifier(),\n",
    "    \n",
    "    'Random Forest': RandomForestClassifier(),\n",
    "    'Gradient Boosting': GradientBoostingClassifier(),\n",
    "    'AdaBoost': AdaBoostClassifier(),\n",
    "    'Bagging': BaggingClassifier(),\n",
    "    'Decision Tree': DecisionTreeClassifier(),\n",
    "    'Support Vector Machine': SVC(),\n",
    "    'K-Nearest Neighbors': KNeighborsClassifier()\n",
    "}\n",
    "\n",
    "# Train and evaluate models\n",
    "def evaluate_models(X_train, X_test, y_train, y_test):\n",
    "    results = []\n",
    "    for name, model in models.items():\n",
    "        model.fit(X_train, y_train)\n",
    "        y_pred = model.predict(X_test)\n",
    "        acc = accuracy_score(y_test, y_pred)\n",
    "        results.append((name, acc))\n",
    "    \n",
    "    # Sort models by accuracy\n",
    "    results.sort(key=lambda x: x[1], reverse=True)\n",
    "    return results\n",
    "\n",
    "\n",
    "results = evaluate_models(X_train, X_val, y_train, y_val)\n",
    "    \n",
    "print(\"Model Performance:\")\n",
    "for name, acc in results:\n",
    "    print(f\"{name}: {acc:.6f}\")"
   ]
  },
  {
   "cell_type": "code",
   "execution_count": 8,
   "metadata": {},
   "outputs": [],
   "source": [
    "gb = GradientBoostingClassifier()\n",
    "gb.fit(X_train, y_train)\n",
    "y_pred = gb.predict(X_test).astype(bool)"
   ]
  },
  {
   "cell_type": "code",
   "execution_count": 9,
   "metadata": {},
   "outputs": [],
   "source": [
    "submission = pd.DataFrame({\n",
    "    'PassengerId': test_ids,\n",
    "    'Transported': y_pred\n",
    "})"
   ]
  },
  {
   "cell_type": "code",
   "execution_count": 10,
   "metadata": {},
   "outputs": [],
   "source": [
    "submission.to_csv(\"submission.csv\", index=False)"
   ]
  },
  {
   "cell_type": "code",
   "execution_count": 12,
   "metadata": {},
   "outputs": [
    {
     "name": "stdout",
     "output_type": "stream",
     "text": [
      "100%|███████████████████████████████████████| 56.4k/56.4k [00:00<00:00, 191kB/s]\n",
      "Successfully submitted to Spaceship TitanicfileName        date                        description               status                     publicScore  privateScore  \n",
      "--------------  --------------------------  ------------------------  -------------------------  -----------  ------------  \n",
      "submission.csv  2025-04-04 19:16:54.653000  Model Selection Approach  SubmissionStatus.PENDING                              \n",
      "submission.csv  2025-04-04 19:16:44.207000  Model Selection Approach  SubmissionStatus.COMPLETE  0.79915                    \n",
      "submission.csv  2025-04-04 19:14:45         Submission 1              SubmissionStatus.COMPLETE  0.79915                    \n",
      "submission.csv  2025-04-04 18:53:32         Submission 1              SubmissionStatus.COMPLETE  0.79752                    \n",
      "submission.csv  2025-04-03 23:43:30.873000  Submission 1              SubmissionStatus.COMPLETE  0.00000                    \n",
      "submission.csv  2025-04-03 23:17:57         Submission 1              SubmissionStatus.COMPLETE  0.00000                    \n",
      "submission.csv  2025-04-03 23:17:23         Submission 1              SubmissionStatus.COMPLETE  0.00000                    \n",
      "submission.csv  2025-04-03 23:17:07         Submission 1              SubmissionStatus.ERROR                                \n",
      "submission.csv  2025-04-03 23:16:50         Submission 1              SubmissionStatus.ERROR                                \n",
      "submission.csv  2025-04-03 20:56:44.473000  Submission 1              SubmissionStatus.COMPLETE  0.73462                    \n"
     ]
    }
   ],
   "source": [
    "competition_name = \"spaceship-titanic\"\n",
    "submission_path = './submission.csv'\n",
    "!kaggle competitions submit -c {competition_name} -f {submission_path} -m \"Model Selection Approach\"\n",
    "!kaggle competitions submissions -c {competition_name}"
   ]
  },
  {
   "cell_type": "code",
   "execution_count": null,
   "metadata": {},
   "outputs": [],
   "source": []
  }
 ],
 "metadata": {
  "kernelspec": {
   "display_name": "base",
   "language": "python",
   "name": "python3"
  },
  "language_info": {
   "codemirror_mode": {
    "name": "ipython",
    "version": 3
   },
   "file_extension": ".py",
   "mimetype": "text/x-python",
   "name": "python",
   "nbconvert_exporter": "python",
   "pygments_lexer": "ipython3",
   "version": "3.12.4"
  }
 },
 "nbformat": 4,
 "nbformat_minor": 2
}
